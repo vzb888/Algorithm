{
 "cells": [
  {
   "cell_type": "markdown",
   "metadata": {},
   "source": [
    "# 1번 문제"
   ]
  },
  {
   "cell_type": "code",
   "execution_count": 28,
   "metadata": {},
   "outputs": [],
   "source": [
    "def divider(num):\n",
    "    count=0\n",
    "    for i in range(1,num+1):\n",
    "        if num%i==0: \n",
    "            count+=1\n",
    "            continue\n",
    "    return count"
   ]
  },
  {
   "cell_type": "code",
   "execution_count": 25,
   "metadata": {},
   "outputs": [
    {
     "name": "stdout",
     "output_type": "stream",
     "text": [
      "4\n"
     ]
    }
   ],
   "source": [
    "divider(8)"
   ]
  },
  {
   "cell_type": "code",
   "execution_count": 29,
   "metadata": {},
   "outputs": [],
   "source": [
    "def solution(n, m):\n",
    "    answer = 0\n",
    "    count=0\n",
    "    num=1\n",
    "    while count<m:\n",
    "        if divider(num)==n:\n",
    "            answer=num\n",
    "            count+=1\n",
    "        num+=1\n",
    "    return answer\n"
   ]
  },
  {
   "cell_type": "code",
   "execution_count": 33,
   "metadata": {},
   "outputs": [
    {
     "ename": "KeyboardInterrupt",
     "evalue": "",
     "output_type": "error",
     "traceback": [
      "\u001b[1;31m---------------------------------------------------------------------------\u001b[0m",
      "\u001b[1;31mKeyboardInterrupt\u001b[0m                         Traceback (most recent call last)",
      "\u001b[1;32mc:\\VS_Code_Repository\\Algorithm\\토스_코테.ipynb Cell 5\u001b[0m in \u001b[0;36m<cell line: 1>\u001b[1;34m()\u001b[0m\n\u001b[1;32m----> <a href='vscode-notebook-cell:/c%3A/VS_Code_Repository/Algorithm/%ED%86%A0%EC%8A%A4_%EC%BD%94%ED%85%8C.ipynb#W4sZmlsZQ%3D%3D?line=0'>1</a>\u001b[0m \u001b[39mprint\u001b[39m(solution(\u001b[39m3\u001b[39;49m,\u001b[39m3000\u001b[39;49m))\n",
      "\u001b[1;32mc:\\VS_Code_Repository\\Algorithm\\토스_코테.ipynb Cell 5\u001b[0m in \u001b[0;36msolution\u001b[1;34m(n, m)\u001b[0m\n\u001b[0;32m      <a href='vscode-notebook-cell:/c%3A/VS_Code_Repository/Algorithm/%ED%86%A0%EC%8A%A4_%EC%BD%94%ED%85%8C.ipynb#W4sZmlsZQ%3D%3D?line=3'>4</a>\u001b[0m num\u001b[39m=\u001b[39m\u001b[39m1\u001b[39m\n\u001b[0;32m      <a href='vscode-notebook-cell:/c%3A/VS_Code_Repository/Algorithm/%ED%86%A0%EC%8A%A4_%EC%BD%94%ED%85%8C.ipynb#W4sZmlsZQ%3D%3D?line=4'>5</a>\u001b[0m \u001b[39mwhile\u001b[39;00m count\u001b[39m<\u001b[39mm:\n\u001b[1;32m----> <a href='vscode-notebook-cell:/c%3A/VS_Code_Repository/Algorithm/%ED%86%A0%EC%8A%A4_%EC%BD%94%ED%85%8C.ipynb#W4sZmlsZQ%3D%3D?line=5'>6</a>\u001b[0m     \u001b[39mif\u001b[39;00m divider(num)\u001b[39m==\u001b[39mn:\n\u001b[0;32m      <a href='vscode-notebook-cell:/c%3A/VS_Code_Repository/Algorithm/%ED%86%A0%EC%8A%A4_%EC%BD%94%ED%85%8C.ipynb#W4sZmlsZQ%3D%3D?line=6'>7</a>\u001b[0m         answer\u001b[39m=\u001b[39mnum\n\u001b[0;32m      <a href='vscode-notebook-cell:/c%3A/VS_Code_Repository/Algorithm/%ED%86%A0%EC%8A%A4_%EC%BD%94%ED%85%8C.ipynb#W4sZmlsZQ%3D%3D?line=7'>8</a>\u001b[0m         count\u001b[39m+\u001b[39m\u001b[39m=\u001b[39m\u001b[39m1\u001b[39m\n",
      "\u001b[1;32mc:\\VS_Code_Repository\\Algorithm\\토스_코테.ipynb Cell 5\u001b[0m in \u001b[0;36mdivider\u001b[1;34m(num)\u001b[0m\n\u001b[0;32m      <a href='vscode-notebook-cell:/c%3A/VS_Code_Repository/Algorithm/%ED%86%A0%EC%8A%A4_%EC%BD%94%ED%85%8C.ipynb#W4sZmlsZQ%3D%3D?line=1'>2</a>\u001b[0m count\u001b[39m=\u001b[39m\u001b[39m0\u001b[39m\n\u001b[0;32m      <a href='vscode-notebook-cell:/c%3A/VS_Code_Repository/Algorithm/%ED%86%A0%EC%8A%A4_%EC%BD%94%ED%85%8C.ipynb#W4sZmlsZQ%3D%3D?line=2'>3</a>\u001b[0m \u001b[39mfor\u001b[39;00m i \u001b[39min\u001b[39;00m \u001b[39mrange\u001b[39m(\u001b[39m1\u001b[39m,num\u001b[39m+\u001b[39m\u001b[39m1\u001b[39m):\n\u001b[1;32m----> <a href='vscode-notebook-cell:/c%3A/VS_Code_Repository/Algorithm/%ED%86%A0%EC%8A%A4_%EC%BD%94%ED%85%8C.ipynb#W4sZmlsZQ%3D%3D?line=3'>4</a>\u001b[0m     \u001b[39mif\u001b[39;00m num\u001b[39m%\u001b[39mi\u001b[39m==\u001b[39m\u001b[39m0\u001b[39m: \n\u001b[0;32m      <a href='vscode-notebook-cell:/c%3A/VS_Code_Repository/Algorithm/%ED%86%A0%EC%8A%A4_%EC%BD%94%ED%85%8C.ipynb#W4sZmlsZQ%3D%3D?line=4'>5</a>\u001b[0m         count\u001b[39m+\u001b[39m\u001b[39m=\u001b[39m\u001b[39m1\u001b[39m\n\u001b[0;32m      <a href='vscode-notebook-cell:/c%3A/VS_Code_Repository/Algorithm/%ED%86%A0%EC%8A%A4_%EC%BD%94%ED%85%8C.ipynb#W4sZmlsZQ%3D%3D?line=5'>6</a>\u001b[0m         \u001b[39mcontinue\u001b[39;00m\n",
      "\u001b[1;31mKeyboardInterrupt\u001b[0m: "
     ]
    }
   ],
   "source": [
    "print(solution(3,3000))"
   ]
  },
  {
   "cell_type": "markdown",
   "metadata": {},
   "source": [
    "# 2번 문제"
   ]
  },
  {
   "cell_type": "code",
   "execution_count": 91,
   "metadata": {},
   "outputs": [],
   "source": [
    "import math\n",
    "def is_answer(arr):\n",
    "    for i in range(math.floor(len(arr)/2)):\n",
    "        if not arr[i]==arr[len(arr)-1-i]: return False\n",
    "    return True"
   ]
  },
  {
   "cell_type": "code",
   "execution_count": 92,
   "metadata": {},
   "outputs": [],
   "source": [
    "def plus_answer(arr):\n",
    "    data= arr\n",
    "    cnt=0\n",
    "    while len(data)>1:\n",
    "        if is_answer(data): return True\n",
    "        for i in range(math.floor(len(data)/2)):\n",
    "            if data[i]==data[-i-1]:continue\n",
    "            else:\n",
    "                if data[i]>data[-i-1]:\n",
    "                    data[-i-2]+=data[-i-1]\n",
    "                    data.pop(-i-1)\n",
    "                else:\n",
    "                    data[i+1]+=data[i]\n",
    "                    data.pop(i)\n",
    "    return False        "
   ]
  },
  {
   "cell_type": "code",
   "execution_count": 59,
   "metadata": {},
   "outputs": [
    {
     "name": "stdout",
     "output_type": "stream",
     "text": [
      "[3, 1, 1, 1]\n",
      "[3, 1, 2]\n",
      "[3, 3]\n",
      "True\n"
     ]
    }
   ],
   "source": [
    "a=[3,1,1,1]\n",
    "# a.pop(-2)\n",
    "print(plus_answer(a))\n"
   ]
  },
  {
   "cell_type": "code",
   "execution_count": 93,
   "metadata": {},
   "outputs": [],
   "source": [
    "def solution(arr):\n",
    "    answer = 0\n",
    "    for length in range(len(arr),0,-1):\n",
    "        for i in range(len(arr)-length):\n",
    "            if plus_answer(arr[i:length+i+1]):answer+=1\n",
    "    return answer"
   ]
  },
  {
   "cell_type": "code",
   "execution_count": 96,
   "metadata": {},
   "outputs": [
    {
     "data": {
      "text/plain": [
       "6"
      ]
     },
     "execution_count": 96,
     "metadata": {},
     "output_type": "execute_result"
    }
   ],
   "source": [
    "solution([4,4,4,4])"
   ]
  },
  {
   "cell_type": "code",
   "execution_count": null,
   "metadata": {},
   "outputs": [],
   "source": []
  }
 ],
 "metadata": {
  "kernelspec": {
   "display_name": "Python 3.10.4 64-bit",
   "language": "python",
   "name": "python3"
  },
  "language_info": {
   "codemirror_mode": {
    "name": "ipython",
    "version": 3
   },
   "file_extension": ".py",
   "mimetype": "text/x-python",
   "name": "python",
   "nbconvert_exporter": "python",
   "pygments_lexer": "ipython3",
   "version": "3.10.4"
  },
  "orig_nbformat": 4,
  "vscode": {
   "interpreter": {
    "hash": "16e5f02754ab0f79f0abaa7cdeb71a09b30b0cb9d46aa2a551c0ac5a1ab0d914"
   }
  }
 },
 "nbformat": 4,
 "nbformat_minor": 2
}
